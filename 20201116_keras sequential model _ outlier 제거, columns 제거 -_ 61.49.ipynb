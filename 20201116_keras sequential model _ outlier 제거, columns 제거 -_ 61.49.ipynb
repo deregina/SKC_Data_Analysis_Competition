{
 "cells": [
  {
   "cell_type": "code",
   "execution_count": 1,
   "metadata": {
    "scrolled": true
   },
   "outputs": [
    {
     "data": {
      "text/html": [
       "<div>\n",
       "<style scoped>\n",
       "    .dataframe tbody tr th:only-of-type {\n",
       "        vertical-align: middle;\n",
       "    }\n",
       "\n",
       "    .dataframe tbody tr th {\n",
       "        vertical-align: top;\n",
       "    }\n",
       "\n",
       "    .dataframe thead th {\n",
       "        text-align: right;\n",
       "    }\n",
       "</style>\n",
       "<table border=\"1\" class=\"dataframe\">\n",
       "  <thead>\n",
       "    <tr style=\"text-align: right;\">\n",
       "      <th></th>\n",
       "      <th>flag</th>\n",
       "      <th>Y</th>\n",
       "      <th>material_type</th>\n",
       "      <th>product_type</th>\n",
       "      <th>shift</th>\n",
       "      <th>start_time</th>\n",
       "      <th>end_time</th>\n",
       "      <th>thick</th>\n",
       "      <th>width</th>\n",
       "      <th>length</th>\n",
       "      <th>...</th>\n",
       "      <th>P1</th>\n",
       "      <th>Q1</th>\n",
       "      <th>R1</th>\n",
       "      <th>S1</th>\n",
       "      <th>S2</th>\n",
       "      <th>T1</th>\n",
       "      <th>U1</th>\n",
       "      <th>V1</th>\n",
       "      <th>W1</th>\n",
       "      <th>X1</th>\n",
       "    </tr>\n",
       "    <tr>\n",
       "      <th>idx</th>\n",
       "      <th></th>\n",
       "      <th></th>\n",
       "      <th></th>\n",
       "      <th></th>\n",
       "      <th></th>\n",
       "      <th></th>\n",
       "      <th></th>\n",
       "      <th></th>\n",
       "      <th></th>\n",
       "      <th></th>\n",
       "      <th></th>\n",
       "      <th></th>\n",
       "      <th></th>\n",
       "      <th></th>\n",
       "      <th></th>\n",
       "      <th></th>\n",
       "      <th></th>\n",
       "      <th></th>\n",
       "      <th></th>\n",
       "      <th></th>\n",
       "      <th></th>\n",
       "    </tr>\n",
       "  </thead>\n",
       "  <tbody>\n",
       "    <tr>\n",
       "      <th>2447</th>\n",
       "      <td>train</td>\n",
       "      <td>195.1609</td>\n",
       "      <td>B</td>\n",
       "      <td>C</td>\n",
       "      <td>A</td>\n",
       "      <td>2020-01-06 10:14:00</td>\n",
       "      <td>2020-01-06 10:57:00</td>\n",
       "      <td>29.5</td>\n",
       "      <td>568.5</td>\n",
       "      <td>2103.5</td>\n",
       "      <td>...</td>\n",
       "      <td>14.625</td>\n",
       "      <td>88.175</td>\n",
       "      <td>68.110</td>\n",
       "      <td>65.020</td>\n",
       "      <td>53.585</td>\n",
       "      <td>53.215</td>\n",
       "      <td>46.995</td>\n",
       "      <td>59.236667</td>\n",
       "      <td>110.532297</td>\n",
       "      <td>9.136789</td>\n",
       "    </tr>\n",
       "    <tr>\n",
       "      <th>333</th>\n",
       "      <td>train</td>\n",
       "      <td>181.4409</td>\n",
       "      <td>A</td>\n",
       "      <td>C</td>\n",
       "      <td>B</td>\n",
       "      <td>2019-04-17 16:47:00</td>\n",
       "      <td>2019-04-17 17:34:00</td>\n",
       "      <td>41.0</td>\n",
       "      <td>793.5</td>\n",
       "      <td>1178.5</td>\n",
       "      <td>...</td>\n",
       "      <td>14.525</td>\n",
       "      <td>103.350</td>\n",
       "      <td>68.375</td>\n",
       "      <td>60.675</td>\n",
       "      <td>58.435</td>\n",
       "      <td>63.225</td>\n",
       "      <td>68.915</td>\n",
       "      <td>57.436667</td>\n",
       "      <td>103.981950</td>\n",
       "      <td>8.857715</td>\n",
       "    </tr>\n",
       "    <tr>\n",
       "      <th>2066</th>\n",
       "      <td>train</td>\n",
       "      <td>203.6329</td>\n",
       "      <td>A</td>\n",
       "      <td>D</td>\n",
       "      <td>B</td>\n",
       "      <td>2019-11-16 06:30:00</td>\n",
       "      <td>2019-11-16 07:13:00</td>\n",
       "      <td>41.0</td>\n",
       "      <td>563.5</td>\n",
       "      <td>2088.5</td>\n",
       "      <td>...</td>\n",
       "      <td>14.405</td>\n",
       "      <td>103.100</td>\n",
       "      <td>68.335</td>\n",
       "      <td>64.810</td>\n",
       "      <td>49.395</td>\n",
       "      <td>63.305</td>\n",
       "      <td>43.520</td>\n",
       "      <td>63.736667</td>\n",
       "      <td>114.400205</td>\n",
       "      <td>9.021108</td>\n",
       "    </tr>\n",
       "    <tr>\n",
       "      <th>939</th>\n",
       "      <td>test</td>\n",
       "      <td>NaN</td>\n",
       "      <td>A</td>\n",
       "      <td>D</td>\n",
       "      <td>A</td>\n",
       "      <td>2020-10-03 16:17:00</td>\n",
       "      <td>2020-10-03 16:59:00</td>\n",
       "      <td>41.5</td>\n",
       "      <td>793.5</td>\n",
       "      <td>2088.5</td>\n",
       "      <td>...</td>\n",
       "      <td>14.235</td>\n",
       "      <td>103.580</td>\n",
       "      <td>68.335</td>\n",
       "      <td>63.000</td>\n",
       "      <td>59.650</td>\n",
       "      <td>63.295</td>\n",
       "      <td>45.920</td>\n",
       "      <td>58.696667</td>\n",
       "      <td>106.701176</td>\n",
       "      <td>8.915066</td>\n",
       "    </tr>\n",
       "    <tr>\n",
       "      <th>3529</th>\n",
       "      <td>train</td>\n",
       "      <td>186.8689</td>\n",
       "      <td>A</td>\n",
       "      <td>D</td>\n",
       "      <td>B</td>\n",
       "      <td>2020-05-07 08:08:00</td>\n",
       "      <td>2020-05-07 08:50:00</td>\n",
       "      <td>41.0</td>\n",
       "      <td>563.5</td>\n",
       "      <td>2088.5</td>\n",
       "      <td>...</td>\n",
       "      <td>14.340</td>\n",
       "      <td>88.450</td>\n",
       "      <td>68.245</td>\n",
       "      <td>65.330</td>\n",
       "      <td>51.385</td>\n",
       "      <td>63.160</td>\n",
       "      <td>58.385</td>\n",
       "      <td>60.496667</td>\n",
       "      <td>109.104573</td>\n",
       "      <td>8.892539</td>\n",
       "    </tr>\n",
       "    <tr>\n",
       "      <th>448</th>\n",
       "      <td>test</td>\n",
       "      <td>NaN</td>\n",
       "      <td>A</td>\n",
       "      <td>D</td>\n",
       "      <td>C</td>\n",
       "      <td>2020-07-26 15:43:00</td>\n",
       "      <td>2020-07-26 16:25:00</td>\n",
       "      <td>41.5</td>\n",
       "      <td>563.5</td>\n",
       "      <td>2088.5</td>\n",
       "      <td>...</td>\n",
       "      <td>16.395</td>\n",
       "      <td>88.250</td>\n",
       "      <td>68.110</td>\n",
       "      <td>65.395</td>\n",
       "      <td>51.555</td>\n",
       "      <td>63.255</td>\n",
       "      <td>58.430</td>\n",
       "      <td>61.036667</td>\n",
       "      <td>114.626929</td>\n",
       "      <td>9.113712</td>\n",
       "    </tr>\n",
       "    <tr>\n",
       "      <th>1617</th>\n",
       "      <td>train</td>\n",
       "      <td>179.5600</td>\n",
       "      <td>A</td>\n",
       "      <td>C</td>\n",
       "      <td>B</td>\n",
       "      <td>2019-10-03 13:34:00</td>\n",
       "      <td>2019-10-03 14:13:00</td>\n",
       "      <td>41.0</td>\n",
       "      <td>643.5</td>\n",
       "      <td>2088.5</td>\n",
       "      <td>...</td>\n",
       "      <td>14.470</td>\n",
       "      <td>103.755</td>\n",
       "      <td>68.440</td>\n",
       "      <td>64.855</td>\n",
       "      <td>57.600</td>\n",
       "      <td>63.210</td>\n",
       "      <td>63.505</td>\n",
       "      <td>58.066667</td>\n",
       "      <td>107.473662</td>\n",
       "      <td>8.829203</td>\n",
       "    </tr>\n",
       "    <tr>\n",
       "      <th>78</th>\n",
       "      <td>test</td>\n",
       "      <td>NaN</td>\n",
       "      <td>A</td>\n",
       "      <td>C</td>\n",
       "      <td>A</td>\n",
       "      <td>2020-06-23 16:15:00</td>\n",
       "      <td>2020-06-23 16:50:00</td>\n",
       "      <td>41.5</td>\n",
       "      <td>793.5</td>\n",
       "      <td>1388.5</td>\n",
       "      <td>...</td>\n",
       "      <td>15.525</td>\n",
       "      <td>103.350</td>\n",
       "      <td>68.445</td>\n",
       "      <td>65.130</td>\n",
       "      <td>63.145</td>\n",
       "      <td>63.420</td>\n",
       "      <td>58.345</td>\n",
       "      <td>62.836667</td>\n",
       "      <td>111.909736</td>\n",
       "      <td>9.243735</td>\n",
       "    </tr>\n",
       "    <tr>\n",
       "      <th>736</th>\n",
       "      <td>train</td>\n",
       "      <td>181.4409</td>\n",
       "      <td>A</td>\n",
       "      <td>C</td>\n",
       "      <td>C</td>\n",
       "      <td>2019-06-20 15:42:00</td>\n",
       "      <td>2019-06-20 16:30:00</td>\n",
       "      <td>41.5</td>\n",
       "      <td>793.5</td>\n",
       "      <td>1178.5</td>\n",
       "      <td>...</td>\n",
       "      <td>14.770</td>\n",
       "      <td>103.300</td>\n",
       "      <td>68.230</td>\n",
       "      <td>62.680</td>\n",
       "      <td>57.580</td>\n",
       "      <td>63.555</td>\n",
       "      <td>69.825</td>\n",
       "      <td>56.896667</td>\n",
       "      <td>103.073576</td>\n",
       "      <td>8.814864</td>\n",
       "    </tr>\n",
       "    <tr>\n",
       "      <th>773</th>\n",
       "      <td>test</td>\n",
       "      <td>NaN</td>\n",
       "      <td>A</td>\n",
       "      <td>C</td>\n",
       "      <td>C</td>\n",
       "      <td>2020-09-15 00:45:00</td>\n",
       "      <td>2020-09-15 01:20:00</td>\n",
       "      <td>41.5</td>\n",
       "      <td>793.5</td>\n",
       "      <td>1388.5</td>\n",
       "      <td>...</td>\n",
       "      <td>15.085</td>\n",
       "      <td>103.165</td>\n",
       "      <td>68.230</td>\n",
       "      <td>63.690</td>\n",
       "      <td>65.940</td>\n",
       "      <td>63.125</td>\n",
       "      <td>58.005</td>\n",
       "      <td>58.696667</td>\n",
       "      <td>102.328440</td>\n",
       "      <td>8.755629</td>\n",
       "    </tr>\n",
       "  </tbody>\n",
       "</table>\n",
       "<p>10 rows × 76 columns</p>\n",
       "</div>"
      ],
      "text/plain": [
       "       flag         Y material_type product_type shift           start_time  \\\n",
       "idx                                                                           \n",
       "2447  train  195.1609             B            C     A  2020-01-06 10:14:00   \n",
       "333   train  181.4409             A            C     B  2019-04-17 16:47:00   \n",
       "2066  train  203.6329             A            D     B  2019-11-16 06:30:00   \n",
       "939    test       NaN             A            D     A  2020-10-03 16:17:00   \n",
       "3529  train  186.8689             A            D     B  2020-05-07 08:08:00   \n",
       "448    test       NaN             A            D     C  2020-07-26 15:43:00   \n",
       "1617  train  179.5600             A            C     B  2019-10-03 13:34:00   \n",
       "78     test       NaN             A            C     A  2020-06-23 16:15:00   \n",
       "736   train  181.4409             A            C     C  2019-06-20 15:42:00   \n",
       "773    test       NaN             A            C     C  2020-09-15 00:45:00   \n",
       "\n",
       "                 end_time  thick  width  length  ...      P1       Q1      R1  \\\n",
       "idx                                              ...                            \n",
       "2447  2020-01-06 10:57:00   29.5  568.5  2103.5  ...  14.625   88.175  68.110   \n",
       "333   2019-04-17 17:34:00   41.0  793.5  1178.5  ...  14.525  103.350  68.375   \n",
       "2066  2019-11-16 07:13:00   41.0  563.5  2088.5  ...  14.405  103.100  68.335   \n",
       "939   2020-10-03 16:59:00   41.5  793.5  2088.5  ...  14.235  103.580  68.335   \n",
       "3529  2020-05-07 08:50:00   41.0  563.5  2088.5  ...  14.340   88.450  68.245   \n",
       "448   2020-07-26 16:25:00   41.5  563.5  2088.5  ...  16.395   88.250  68.110   \n",
       "1617  2019-10-03 14:13:00   41.0  643.5  2088.5  ...  14.470  103.755  68.440   \n",
       "78    2020-06-23 16:50:00   41.5  793.5  1388.5  ...  15.525  103.350  68.445   \n",
       "736   2019-06-20 16:30:00   41.5  793.5  1178.5  ...  14.770  103.300  68.230   \n",
       "773   2020-09-15 01:20:00   41.5  793.5  1388.5  ...  15.085  103.165  68.230   \n",
       "\n",
       "          S1      S2      T1      U1         V1          W1        X1  \n",
       "idx                                                                    \n",
       "2447  65.020  53.585  53.215  46.995  59.236667  110.532297  9.136789  \n",
       "333   60.675  58.435  63.225  68.915  57.436667  103.981950  8.857715  \n",
       "2066  64.810  49.395  63.305  43.520  63.736667  114.400205  9.021108  \n",
       "939   63.000  59.650  63.295  45.920  58.696667  106.701176  8.915066  \n",
       "3529  65.330  51.385  63.160  58.385  60.496667  109.104573  8.892539  \n",
       "448   65.395  51.555  63.255  58.430  61.036667  114.626929  9.113712  \n",
       "1617  64.855  57.600  63.210  63.505  58.066667  107.473662  8.829203  \n",
       "78    65.130  63.145  63.420  58.345  62.836667  111.909736  9.243735  \n",
       "736   62.680  57.580  63.555  69.825  56.896667  103.073576  8.814864  \n",
       "773   63.690  65.940  63.125  58.005  58.696667  102.328440  8.755629  \n",
       "\n",
       "[10 rows x 76 columns]"
      ]
     },
     "execution_count": 1,
     "metadata": {},
     "output_type": "execute_result"
    }
   ],
   "source": [
    "import pandas as pd\n",
    "\n",
    "dataPath = '~/SageMaker/kskc2180033/data/202011160449_cds_01_total/part-00000-5fa4e30f-f70e-4db4-a52d-06a34957783f-c000.csv'\n",
    "df = pd.read_csv(dataPath, index_col=0, parse_dates=True)\n",
    "df[0:10]"
   ]
  },
  {
   "cell_type": "code",
   "execution_count": 2,
   "metadata": {},
   "outputs": [
    {
     "data": {
      "text/html": [
       "<div>\n",
       "<style scoped>\n",
       "    .dataframe tbody tr th:only-of-type {\n",
       "        vertical-align: middle;\n",
       "    }\n",
       "\n",
       "    .dataframe tbody tr th {\n",
       "        vertical-align: top;\n",
       "    }\n",
       "\n",
       "    .dataframe thead th {\n",
       "        text-align: right;\n",
       "    }\n",
       "</style>\n",
       "<table border=\"1\" class=\"dataframe\">\n",
       "  <thead>\n",
       "    <tr style=\"text-align: right;\">\n",
       "      <th></th>\n",
       "      <th>flag</th>\n",
       "      <th>Y</th>\n",
       "      <th>material_type</th>\n",
       "      <th>product_type</th>\n",
       "      <th>shift</th>\n",
       "      <th>start_time</th>\n",
       "      <th>end_time</th>\n",
       "      <th>thick</th>\n",
       "      <th>width</th>\n",
       "      <th>length</th>\n",
       "      <th>...</th>\n",
       "      <th>P1</th>\n",
       "      <th>Q1</th>\n",
       "      <th>R1</th>\n",
       "      <th>S1</th>\n",
       "      <th>S2</th>\n",
       "      <th>T1</th>\n",
       "      <th>U1</th>\n",
       "      <th>V1</th>\n",
       "      <th>W1</th>\n",
       "      <th>X1</th>\n",
       "    </tr>\n",
       "    <tr>\n",
       "      <th>idx</th>\n",
       "      <th></th>\n",
       "      <th></th>\n",
       "      <th></th>\n",
       "      <th></th>\n",
       "      <th></th>\n",
       "      <th></th>\n",
       "      <th></th>\n",
       "      <th></th>\n",
       "      <th></th>\n",
       "      <th></th>\n",
       "      <th></th>\n",
       "      <th></th>\n",
       "      <th></th>\n",
       "      <th></th>\n",
       "      <th></th>\n",
       "      <th></th>\n",
       "      <th></th>\n",
       "      <th></th>\n",
       "      <th></th>\n",
       "      <th></th>\n",
       "      <th></th>\n",
       "    </tr>\n",
       "  </thead>\n",
       "  <tbody>\n",
       "    <tr>\n",
       "      <th>1</th>\n",
       "      <td>train</td>\n",
       "      <td>184.96</td>\n",
       "      <td>A</td>\n",
       "      <td>D</td>\n",
       "      <td>D</td>\n",
       "      <td>2019-02-15 10:35:00</td>\n",
       "      <td>2019-02-15 11:18:00</td>\n",
       "      <td>41.0</td>\n",
       "      <td>563.5</td>\n",
       "      <td>2088.5</td>\n",
       "      <td>...</td>\n",
       "      <td>14.035</td>\n",
       "      <td>88.580</td>\n",
       "      <td>68.245</td>\n",
       "      <td>62.730</td>\n",
       "      <td>42.695</td>\n",
       "      <td>63.420</td>\n",
       "      <td>109.335</td>\n",
       "      <td>58.066667</td>\n",
       "      <td>105.391685</td>\n",
       "      <td>8.868492</td>\n",
       "    </tr>\n",
       "    <tr>\n",
       "      <th>2</th>\n",
       "      <td>train</td>\n",
       "      <td>184.96</td>\n",
       "      <td>A</td>\n",
       "      <td>D</td>\n",
       "      <td>D</td>\n",
       "      <td>2019-02-15 11:18:00</td>\n",
       "      <td>2019-02-15 12:01:00</td>\n",
       "      <td>41.0</td>\n",
       "      <td>563.5</td>\n",
       "      <td>2088.5</td>\n",
       "      <td>...</td>\n",
       "      <td>14.045</td>\n",
       "      <td>88.430</td>\n",
       "      <td>68.510</td>\n",
       "      <td>62.925</td>\n",
       "      <td>42.860</td>\n",
       "      <td>63.145</td>\n",
       "      <td>109.755</td>\n",
       "      <td>58.066667</td>\n",
       "      <td>105.511868</td>\n",
       "      <td>8.847720</td>\n",
       "    </tr>\n",
       "    <tr>\n",
       "      <th>3</th>\n",
       "      <td>train</td>\n",
       "      <td>184.96</td>\n",
       "      <td>A</td>\n",
       "      <td>D</td>\n",
       "      <td>D</td>\n",
       "      <td>2019-02-15 12:01:00</td>\n",
       "      <td>2019-02-15 12:43:00</td>\n",
       "      <td>41.0</td>\n",
       "      <td>563.5</td>\n",
       "      <td>2088.5</td>\n",
       "      <td>...</td>\n",
       "      <td>14.010</td>\n",
       "      <td>88.100</td>\n",
       "      <td>68.160</td>\n",
       "      <td>62.770</td>\n",
       "      <td>43.090</td>\n",
       "      <td>63.265</td>\n",
       "      <td>109.970</td>\n",
       "      <td>58.066667</td>\n",
       "      <td>105.488896</td>\n",
       "      <td>8.883399</td>\n",
       "    </tr>\n",
       "    <tr>\n",
       "      <th>4</th>\n",
       "      <td>train</td>\n",
       "      <td>184.96</td>\n",
       "      <td>A</td>\n",
       "      <td>D</td>\n",
       "      <td>D</td>\n",
       "      <td>2019-02-15 12:43:00</td>\n",
       "      <td>2019-02-15 13:25:00</td>\n",
       "      <td>41.0</td>\n",
       "      <td>563.5</td>\n",
       "      <td>2088.5</td>\n",
       "      <td>...</td>\n",
       "      <td>14.050</td>\n",
       "      <td>88.485</td>\n",
       "      <td>68.275</td>\n",
       "      <td>62.860</td>\n",
       "      <td>43.275</td>\n",
       "      <td>63.160</td>\n",
       "      <td>109.270</td>\n",
       "      <td>58.066667</td>\n",
       "      <td>105.589947</td>\n",
       "      <td>8.878033</td>\n",
       "    </tr>\n",
       "    <tr>\n",
       "      <th>5</th>\n",
       "      <td>train</td>\n",
       "      <td>184.96</td>\n",
       "      <td>A</td>\n",
       "      <td>D</td>\n",
       "      <td>D</td>\n",
       "      <td>2019-02-15 13:25:00</td>\n",
       "      <td>2019-02-15 14:07:00</td>\n",
       "      <td>41.0</td>\n",
       "      <td>563.5</td>\n",
       "      <td>2088.5</td>\n",
       "      <td>...</td>\n",
       "      <td>14.030</td>\n",
       "      <td>88.405</td>\n",
       "      <td>68.310</td>\n",
       "      <td>62.985</td>\n",
       "      <td>43.680</td>\n",
       "      <td>63.230</td>\n",
       "      <td>109.380</td>\n",
       "      <td>58.066667</td>\n",
       "      <td>105.658513</td>\n",
       "      <td>8.873243</td>\n",
       "    </tr>\n",
       "    <tr>\n",
       "      <th>...</th>\n",
       "      <td>...</td>\n",
       "      <td>...</td>\n",
       "      <td>...</td>\n",
       "      <td>...</td>\n",
       "      <td>...</td>\n",
       "      <td>...</td>\n",
       "      <td>...</td>\n",
       "      <td>...</td>\n",
       "      <td>...</td>\n",
       "      <td>...</td>\n",
       "      <td>...</td>\n",
       "      <td>...</td>\n",
       "      <td>...</td>\n",
       "      <td>...</td>\n",
       "      <td>...</td>\n",
       "      <td>...</td>\n",
       "      <td>...</td>\n",
       "      <td>...</td>\n",
       "      <td>...</td>\n",
       "      <td>...</td>\n",
       "      <td>...</td>\n",
       "    </tr>\n",
       "    <tr>\n",
       "      <th>996</th>\n",
       "      <td>test</td>\n",
       "      <td>NaN</td>\n",
       "      <td>B</td>\n",
       "      <td>C</td>\n",
       "      <td>D</td>\n",
       "      <td>2020-10-05 09:33:00</td>\n",
       "      <td>2020-10-05 10:15:00</td>\n",
       "      <td>28.5</td>\n",
       "      <td>793.5</td>\n",
       "      <td>2103.5</td>\n",
       "      <td>...</td>\n",
       "      <td>14.185</td>\n",
       "      <td>103.175</td>\n",
       "      <td>68.205</td>\n",
       "      <td>63.265</td>\n",
       "      <td>63.855</td>\n",
       "      <td>63.305</td>\n",
       "      <td>46.175</td>\n",
       "      <td>56.266667</td>\n",
       "      <td>101.604222</td>\n",
       "      <td>8.892133</td>\n",
       "    </tr>\n",
       "    <tr>\n",
       "      <th>997</th>\n",
       "      <td>test</td>\n",
       "      <td>NaN</td>\n",
       "      <td>B</td>\n",
       "      <td>C</td>\n",
       "      <td>D</td>\n",
       "      <td>2020-10-05 10:15:00</td>\n",
       "      <td>2020-10-05 10:57:00</td>\n",
       "      <td>28.5</td>\n",
       "      <td>793.5</td>\n",
       "      <td>2103.5</td>\n",
       "      <td>...</td>\n",
       "      <td>14.025</td>\n",
       "      <td>103.115</td>\n",
       "      <td>68.175</td>\n",
       "      <td>63.205</td>\n",
       "      <td>63.555</td>\n",
       "      <td>63.300</td>\n",
       "      <td>45.290</td>\n",
       "      <td>56.896667</td>\n",
       "      <td>101.687740</td>\n",
       "      <td>8.736332</td>\n",
       "    </tr>\n",
       "    <tr>\n",
       "      <th>998</th>\n",
       "      <td>test</td>\n",
       "      <td>NaN</td>\n",
       "      <td>B</td>\n",
       "      <td>C</td>\n",
       "      <td>D</td>\n",
       "      <td>2020-10-05 10:57:00</td>\n",
       "      <td>2020-10-05 11:39:00</td>\n",
       "      <td>28.5</td>\n",
       "      <td>793.5</td>\n",
       "      <td>2103.5</td>\n",
       "      <td>...</td>\n",
       "      <td>13.965</td>\n",
       "      <td>103.280</td>\n",
       "      <td>68.355</td>\n",
       "      <td>63.290</td>\n",
       "      <td>63.605</td>\n",
       "      <td>63.410</td>\n",
       "      <td>46.315</td>\n",
       "      <td>55.096667</td>\n",
       "      <td>103.183578</td>\n",
       "      <td>8.801620</td>\n",
       "    </tr>\n",
       "    <tr>\n",
       "      <th>999</th>\n",
       "      <td>test</td>\n",
       "      <td>NaN</td>\n",
       "      <td>B</td>\n",
       "      <td>C</td>\n",
       "      <td>D</td>\n",
       "      <td>2020-10-05 11:39:00</td>\n",
       "      <td>2020-10-05 12:21:00</td>\n",
       "      <td>28.5</td>\n",
       "      <td>793.5</td>\n",
       "      <td>2103.5</td>\n",
       "      <td>...</td>\n",
       "      <td>13.775</td>\n",
       "      <td>103.540</td>\n",
       "      <td>68.135</td>\n",
       "      <td>63.275</td>\n",
       "      <td>63.460</td>\n",
       "      <td>63.315</td>\n",
       "      <td>46.320</td>\n",
       "      <td>56.896667</td>\n",
       "      <td>99.056819</td>\n",
       "      <td>8.843459</td>\n",
       "    </tr>\n",
       "    <tr>\n",
       "      <th>1000</th>\n",
       "      <td>test</td>\n",
       "      <td>NaN</td>\n",
       "      <td>B</td>\n",
       "      <td>C</td>\n",
       "      <td>D</td>\n",
       "      <td>2020-10-05 12:21:00</td>\n",
       "      <td>2020-10-05 13:03:00</td>\n",
       "      <td>28.5</td>\n",
       "      <td>793.5</td>\n",
       "      <td>2103.5</td>\n",
       "      <td>...</td>\n",
       "      <td>14.045</td>\n",
       "      <td>103.065</td>\n",
       "      <td>68.620</td>\n",
       "      <td>63.285</td>\n",
       "      <td>64.315</td>\n",
       "      <td>63.260</td>\n",
       "      <td>46.360</td>\n",
       "      <td>55.096667</td>\n",
       "      <td>103.200343</td>\n",
       "      <td>8.673763</td>\n",
       "    </tr>\n",
       "  </tbody>\n",
       "</table>\n",
       "<p>4959 rows × 76 columns</p>\n",
       "</div>"
      ],
      "text/plain": [
       "       flag       Y material_type product_type shift           start_time  \\\n",
       "idx                                                                         \n",
       "1     train  184.96             A            D     D  2019-02-15 10:35:00   \n",
       "2     train  184.96             A            D     D  2019-02-15 11:18:00   \n",
       "3     train  184.96             A            D     D  2019-02-15 12:01:00   \n",
       "4     train  184.96             A            D     D  2019-02-15 12:43:00   \n",
       "5     train  184.96             A            D     D  2019-02-15 13:25:00   \n",
       "...     ...     ...           ...          ...   ...                  ...   \n",
       "996    test     NaN             B            C     D  2020-10-05 09:33:00   \n",
       "997    test     NaN             B            C     D  2020-10-05 10:15:00   \n",
       "998    test     NaN             B            C     D  2020-10-05 10:57:00   \n",
       "999    test     NaN             B            C     D  2020-10-05 11:39:00   \n",
       "1000   test     NaN             B            C     D  2020-10-05 12:21:00   \n",
       "\n",
       "                 end_time  thick  width  length  ...      P1       Q1      R1  \\\n",
       "idx                                              ...                            \n",
       "1     2019-02-15 11:18:00   41.0  563.5  2088.5  ...  14.035   88.580  68.245   \n",
       "2     2019-02-15 12:01:00   41.0  563.5  2088.5  ...  14.045   88.430  68.510   \n",
       "3     2019-02-15 12:43:00   41.0  563.5  2088.5  ...  14.010   88.100  68.160   \n",
       "4     2019-02-15 13:25:00   41.0  563.5  2088.5  ...  14.050   88.485  68.275   \n",
       "5     2019-02-15 14:07:00   41.0  563.5  2088.5  ...  14.030   88.405  68.310   \n",
       "...                   ...    ...    ...     ...  ...     ...      ...     ...   \n",
       "996   2020-10-05 10:15:00   28.5  793.5  2103.5  ...  14.185  103.175  68.205   \n",
       "997   2020-10-05 10:57:00   28.5  793.5  2103.5  ...  14.025  103.115  68.175   \n",
       "998   2020-10-05 11:39:00   28.5  793.5  2103.5  ...  13.965  103.280  68.355   \n",
       "999   2020-10-05 12:21:00   28.5  793.5  2103.5  ...  13.775  103.540  68.135   \n",
       "1000  2020-10-05 13:03:00   28.5  793.5  2103.5  ...  14.045  103.065  68.620   \n",
       "\n",
       "          S1      S2      T1       U1         V1          W1        X1  \n",
       "idx                                                                     \n",
       "1     62.730  42.695  63.420  109.335  58.066667  105.391685  8.868492  \n",
       "2     62.925  42.860  63.145  109.755  58.066667  105.511868  8.847720  \n",
       "3     62.770  43.090  63.265  109.970  58.066667  105.488896  8.883399  \n",
       "4     62.860  43.275  63.160  109.270  58.066667  105.589947  8.878033  \n",
       "5     62.985  43.680  63.230  109.380  58.066667  105.658513  8.873243  \n",
       "...      ...     ...     ...      ...        ...         ...       ...  \n",
       "996   63.265  63.855  63.305   46.175  56.266667  101.604222  8.892133  \n",
       "997   63.205  63.555  63.300   45.290  56.896667  101.687740  8.736332  \n",
       "998   63.290  63.605  63.410   46.315  55.096667  103.183578  8.801620  \n",
       "999   63.275  63.460  63.315   46.320  56.896667   99.056819  8.843459  \n",
       "1000  63.285  64.315  63.260   46.360  55.096667  103.200343  8.673763  \n",
       "\n",
       "[4959 rows x 76 columns]"
      ]
     },
     "execution_count": 2,
     "metadata": {},
     "output_type": "execute_result"
    }
   ],
   "source": [
    "df = df.sort_values(['start_time'])\n",
    "df"
   ]
  },
  {
   "cell_type": "code",
   "execution_count": 3,
   "metadata": {},
   "outputs": [
    {
     "name": "stdout",
     "output_type": "stream",
     "text": [
      "Requirement already up-to-date: pip in /home/ec2-user/anaconda3/envs/python3/lib/python3.6/site-packages (20.2.4)\r\n"
     ]
    }
   ],
   "source": [
    "!pip install --upgrade pip"
   ]
  },
  {
   "cell_type": "code",
   "execution_count": 4,
   "metadata": {},
   "outputs": [],
   "source": [
    "!pip install -q seaborn"
   ]
  },
  {
   "cell_type": "code",
   "execution_count": 5,
   "metadata": {},
   "outputs": [],
   "source": [
    "!pip install -q tensorflow-gpu==2.0.0-rc1"
   ]
  },
  {
   "cell_type": "code",
   "execution_count": 6,
   "metadata": {},
   "outputs": [
    {
     "ename": "AttributeError",
     "evalue": "module 'tensorflow' has no attribute 'compat'",
     "output_type": "error",
     "traceback": [
      "\u001b[0;31m---------------------------------------------------------------------------\u001b[0m",
      "\u001b[0;31mAttributeError\u001b[0m                            Traceback (most recent call last)",
      "\u001b[0;32m<ipython-input-6-a47b458b9f4e>\u001b[0m in \u001b[0;36m<module>\u001b[0;34m\u001b[0m\n\u001b[1;32m      5\u001b[0m \u001b[0;32mimport\u001b[0m \u001b[0mseaborn\u001b[0m \u001b[0;32mas\u001b[0m \u001b[0msns\u001b[0m\u001b[0;34m\u001b[0m\u001b[0;34m\u001b[0m\u001b[0m\n\u001b[1;32m      6\u001b[0m \u001b[0;34m\u001b[0m\u001b[0m\n\u001b[0;32m----> 7\u001b[0;31m \u001b[0;32mimport\u001b[0m \u001b[0mtensorflow\u001b[0m \u001b[0;32mas\u001b[0m \u001b[0mtf\u001b[0m\u001b[0;34m\u001b[0m\u001b[0;34m\u001b[0m\u001b[0m\n\u001b[0m\u001b[1;32m      8\u001b[0m \u001b[0;32mfrom\u001b[0m \u001b[0mtensorflow\u001b[0m \u001b[0;32mimport\u001b[0m \u001b[0mkeras\u001b[0m\u001b[0;34m\u001b[0m\u001b[0;34m\u001b[0m\u001b[0m\n\u001b[1;32m      9\u001b[0m \u001b[0;32mfrom\u001b[0m \u001b[0mtensorflow\u001b[0m\u001b[0;34m.\u001b[0m\u001b[0mkeras\u001b[0m \u001b[0;32mimport\u001b[0m \u001b[0mlayers\u001b[0m\u001b[0;34m\u001b[0m\u001b[0;34m\u001b[0m\u001b[0m\n",
      "\u001b[0;32m~/anaconda3/envs/python3/lib/python3.6/site-packages/tensorflow/__init__.py\u001b[0m in \u001b[0;36m<module>\u001b[0;34m\u001b[0m\n\u001b[1;32m     96\u001b[0m \u001b[0;34m\u001b[0m\u001b[0m\n\u001b[1;32m     97\u001b[0m \u001b[0;31m# We still need all the names that are toplevel on tensorflow_core\u001b[0m\u001b[0;34m\u001b[0m\u001b[0;34m\u001b[0m\u001b[0;34m\u001b[0m\u001b[0m\n\u001b[0;32m---> 98\u001b[0;31m \u001b[0;32mfrom\u001b[0m \u001b[0mtensorflow_core\u001b[0m \u001b[0;32mimport\u001b[0m \u001b[0;34m*\u001b[0m\u001b[0;34m\u001b[0m\u001b[0;34m\u001b[0m\u001b[0m\n\u001b[0m\u001b[1;32m     99\u001b[0m \u001b[0;34m\u001b[0m\u001b[0m\n\u001b[1;32m    100\u001b[0m \u001b[0;31m# These should not be visible in the main tf module.\u001b[0m\u001b[0;34m\u001b[0m\u001b[0;34m\u001b[0m\u001b[0;34m\u001b[0m\u001b[0m\n",
      "\u001b[0;32m~/anaconda3/envs/python3/lib/python3.6/site-packages/tensorflow_core/__init__.py\u001b[0m in \u001b[0;36m<module>\u001b[0;34m\u001b[0m\n\u001b[1;32m     43\u001b[0m \u001b[0;32mfrom\u001b[0m \u001b[0;34m.\u001b[0m \u001b[0m_api\u001b[0m\u001b[0;34m.\u001b[0m\u001b[0mv2\u001b[0m \u001b[0;32mimport\u001b[0m \u001b[0mautograph\u001b[0m\u001b[0;34m\u001b[0m\u001b[0;34m\u001b[0m\u001b[0m\n\u001b[1;32m     44\u001b[0m \u001b[0;32mfrom\u001b[0m \u001b[0;34m.\u001b[0m \u001b[0m_api\u001b[0m\u001b[0;34m.\u001b[0m\u001b[0mv2\u001b[0m \u001b[0;32mimport\u001b[0m \u001b[0mbitwise\u001b[0m\u001b[0;34m\u001b[0m\u001b[0;34m\u001b[0m\u001b[0m\n\u001b[0;32m---> 45\u001b[0;31m \u001b[0;32mfrom\u001b[0m \u001b[0;34m.\u001b[0m \u001b[0m_api\u001b[0m\u001b[0;34m.\u001b[0m\u001b[0mv2\u001b[0m \u001b[0;32mimport\u001b[0m \u001b[0mcompat\u001b[0m\u001b[0;34m\u001b[0m\u001b[0;34m\u001b[0m\u001b[0m\n\u001b[0m\u001b[1;32m     46\u001b[0m \u001b[0;32mfrom\u001b[0m \u001b[0;34m.\u001b[0m \u001b[0m_api\u001b[0m\u001b[0;34m.\u001b[0m\u001b[0mv2\u001b[0m \u001b[0;32mimport\u001b[0m \u001b[0mconfig\u001b[0m\u001b[0;34m\u001b[0m\u001b[0;34m\u001b[0m\u001b[0m\n\u001b[1;32m     47\u001b[0m \u001b[0;32mfrom\u001b[0m \u001b[0;34m.\u001b[0m \u001b[0m_api\u001b[0m\u001b[0;34m.\u001b[0m\u001b[0mv2\u001b[0m \u001b[0;32mimport\u001b[0m \u001b[0mdata\u001b[0m\u001b[0;34m\u001b[0m\u001b[0;34m\u001b[0m\u001b[0m\n",
      "\u001b[0;32m~/anaconda3/envs/python3/lib/python3.6/site-packages/tensorflow_core/_api/v2/compat/__init__.py\u001b[0m in \u001b[0;36m<module>\u001b[0;34m\u001b[0m\n\u001b[1;32m     21\u001b[0m \u001b[0;32mimport\u001b[0m \u001b[0msys\u001b[0m \u001b[0;32mas\u001b[0m \u001b[0m_sys\u001b[0m\u001b[0;34m\u001b[0m\u001b[0;34m\u001b[0m\u001b[0m\n\u001b[1;32m     22\u001b[0m \u001b[0;34m\u001b[0m\u001b[0m\n\u001b[0;32m---> 23\u001b[0;31m \u001b[0;32mfrom\u001b[0m \u001b[0;34m.\u001b[0m \u001b[0;32mimport\u001b[0m \u001b[0mv1\u001b[0m\u001b[0;34m\u001b[0m\u001b[0;34m\u001b[0m\u001b[0m\n\u001b[0m\u001b[1;32m     24\u001b[0m \u001b[0;32mfrom\u001b[0m \u001b[0;34m.\u001b[0m \u001b[0;32mimport\u001b[0m \u001b[0mv2\u001b[0m\u001b[0;34m\u001b[0m\u001b[0;34m\u001b[0m\u001b[0m\n\u001b[1;32m     25\u001b[0m \u001b[0;32mfrom\u001b[0m \u001b[0mtensorflow\u001b[0m\u001b[0;34m.\u001b[0m\u001b[0mpython\u001b[0m\u001b[0;34m.\u001b[0m\u001b[0mcompat\u001b[0m\u001b[0;34m.\u001b[0m\u001b[0mcompat\u001b[0m \u001b[0;32mimport\u001b[0m \u001b[0mforward_compatibility_horizon\u001b[0m\u001b[0;34m\u001b[0m\u001b[0;34m\u001b[0m\u001b[0m\n",
      "\u001b[0;32m~/anaconda3/envs/python3/lib/python3.6/site-packages/tensorflow_core/_api/v2/compat/v1/__init__.py\u001b[0m in \u001b[0;36m<module>\u001b[0;34m\u001b[0m\n\u001b[1;32m    662\u001b[0m \u001b[0m_current_module\u001b[0m \u001b[0;34m=\u001b[0m \u001b[0m_sys\u001b[0m\u001b[0;34m.\u001b[0m\u001b[0mmodules\u001b[0m\u001b[0;34m[\u001b[0m\u001b[0m__name__\u001b[0m\u001b[0;34m]\u001b[0m\u001b[0;34m\u001b[0m\u001b[0;34m\u001b[0m\u001b[0m\n\u001b[1;32m    663\u001b[0m \u001b[0;32mtry\u001b[0m\u001b[0;34m:\u001b[0m\u001b[0;34m\u001b[0m\u001b[0;34m\u001b[0m\u001b[0m\n\u001b[0;32m--> 664\u001b[0;31m   \u001b[0;32mfrom\u001b[0m \u001b[0mtensorflow_estimator\u001b[0m\u001b[0;34m.\u001b[0m\u001b[0mpython\u001b[0m\u001b[0;34m.\u001b[0m\u001b[0mestimator\u001b[0m\u001b[0;34m.\u001b[0m\u001b[0mapi\u001b[0m\u001b[0;34m.\u001b[0m\u001b[0m_v1\u001b[0m \u001b[0;32mimport\u001b[0m \u001b[0mestimator\u001b[0m\u001b[0;34m\u001b[0m\u001b[0;34m\u001b[0m\u001b[0m\n\u001b[0m\u001b[1;32m    665\u001b[0m   _current_module.__path__ = (\n\u001b[1;32m    666\u001b[0m       [_module_util.get_parent_dir(estimator)] + _current_module.__path__)\n",
      "\u001b[0;32m~/anaconda3/envs/python3/lib/python3.6/site-packages/tensorflow_estimator/__init__.py\u001b[0m in \u001b[0;36m<module>\u001b[0;34m\u001b[0m\n\u001b[1;32m      8\u001b[0m \u001b[0;32mimport\u001b[0m \u001b[0msys\u001b[0m \u001b[0;32mas\u001b[0m \u001b[0m_sys\u001b[0m\u001b[0;34m\u001b[0m\u001b[0;34m\u001b[0m\u001b[0m\n\u001b[1;32m      9\u001b[0m \u001b[0;34m\u001b[0m\u001b[0m\n\u001b[0;32m---> 10\u001b[0;31m \u001b[0;32mfrom\u001b[0m \u001b[0mtensorflow_estimator\u001b[0m\u001b[0;34m.\u001b[0m\u001b[0m_api\u001b[0m\u001b[0;34m.\u001b[0m\u001b[0mv1\u001b[0m \u001b[0;32mimport\u001b[0m \u001b[0mestimator\u001b[0m\u001b[0;34m\u001b[0m\u001b[0;34m\u001b[0m\u001b[0m\n\u001b[0m\u001b[1;32m     11\u001b[0m \u001b[0;34m\u001b[0m\u001b[0m\n\u001b[1;32m     12\u001b[0m \u001b[0;32mdel\u001b[0m \u001b[0m_print_function\u001b[0m\u001b[0;34m\u001b[0m\u001b[0;34m\u001b[0m\u001b[0m\n",
      "\u001b[0;32m~/anaconda3/envs/python3/lib/python3.6/site-packages/tensorflow_estimator/_api/v1/estimator/__init__.py\u001b[0m in \u001b[0;36m<module>\u001b[0;34m\u001b[0m\n\u001b[1;32m      8\u001b[0m \u001b[0;32mimport\u001b[0m \u001b[0msys\u001b[0m \u001b[0;32mas\u001b[0m \u001b[0m_sys\u001b[0m\u001b[0;34m\u001b[0m\u001b[0;34m\u001b[0m\u001b[0m\n\u001b[1;32m      9\u001b[0m \u001b[0;34m\u001b[0m\u001b[0m\n\u001b[0;32m---> 10\u001b[0;31m \u001b[0;32mfrom\u001b[0m \u001b[0mtensorflow_estimator\u001b[0m\u001b[0;34m.\u001b[0m\u001b[0m_api\u001b[0m\u001b[0;34m.\u001b[0m\u001b[0mv1\u001b[0m\u001b[0;34m.\u001b[0m\u001b[0mestimator\u001b[0m \u001b[0;32mimport\u001b[0m \u001b[0mexperimental\u001b[0m\u001b[0;34m\u001b[0m\u001b[0;34m\u001b[0m\u001b[0m\n\u001b[0m\u001b[1;32m     11\u001b[0m \u001b[0;32mfrom\u001b[0m \u001b[0mtensorflow_estimator\u001b[0m\u001b[0;34m.\u001b[0m\u001b[0m_api\u001b[0m\u001b[0;34m.\u001b[0m\u001b[0mv1\u001b[0m\u001b[0;34m.\u001b[0m\u001b[0mestimator\u001b[0m \u001b[0;32mimport\u001b[0m \u001b[0mexport\u001b[0m\u001b[0;34m\u001b[0m\u001b[0;34m\u001b[0m\u001b[0m\n\u001b[1;32m     12\u001b[0m \u001b[0;32mfrom\u001b[0m \u001b[0mtensorflow_estimator\u001b[0m\u001b[0;34m.\u001b[0m\u001b[0m_api\u001b[0m\u001b[0;34m.\u001b[0m\u001b[0mv1\u001b[0m\u001b[0;34m.\u001b[0m\u001b[0mestimator\u001b[0m \u001b[0;32mimport\u001b[0m \u001b[0minputs\u001b[0m\u001b[0;34m\u001b[0m\u001b[0;34m\u001b[0m\u001b[0m\n",
      "\u001b[0;32m~/anaconda3/envs/python3/lib/python3.6/site-packages/tensorflow_estimator/_api/v1/estimator/experimental/__init__.py\u001b[0m in \u001b[0;36m<module>\u001b[0;34m\u001b[0m\n\u001b[1;32m      8\u001b[0m \u001b[0;32mimport\u001b[0m \u001b[0msys\u001b[0m \u001b[0;32mas\u001b[0m \u001b[0m_sys\u001b[0m\u001b[0;34m\u001b[0m\u001b[0;34m\u001b[0m\u001b[0m\n\u001b[1;32m      9\u001b[0m \u001b[0;34m\u001b[0m\u001b[0m\n\u001b[0;32m---> 10\u001b[0;31m \u001b[0;32mfrom\u001b[0m \u001b[0mtensorflow_estimator\u001b[0m\u001b[0;34m.\u001b[0m\u001b[0mpython\u001b[0m\u001b[0;34m.\u001b[0m\u001b[0mestimator\u001b[0m\u001b[0;34m.\u001b[0m\u001b[0mcanned\u001b[0m\u001b[0;34m.\u001b[0m\u001b[0mdnn\u001b[0m \u001b[0;32mimport\u001b[0m \u001b[0mdnn_logit_fn_builder\u001b[0m\u001b[0;34m\u001b[0m\u001b[0;34m\u001b[0m\u001b[0m\n\u001b[0m\u001b[1;32m     11\u001b[0m \u001b[0;32mfrom\u001b[0m \u001b[0mtensorflow_estimator\u001b[0m\u001b[0;34m.\u001b[0m\u001b[0mpython\u001b[0m\u001b[0;34m.\u001b[0m\u001b[0mestimator\u001b[0m\u001b[0;34m.\u001b[0m\u001b[0mcanned\u001b[0m\u001b[0;34m.\u001b[0m\u001b[0mkmeans\u001b[0m \u001b[0;32mimport\u001b[0m \u001b[0mKMeansClustering\u001b[0m \u001b[0;32mas\u001b[0m \u001b[0mKMeans\u001b[0m\u001b[0;34m\u001b[0m\u001b[0;34m\u001b[0m\u001b[0m\n\u001b[1;32m     12\u001b[0m \u001b[0;32mfrom\u001b[0m \u001b[0mtensorflow_estimator\u001b[0m\u001b[0;34m.\u001b[0m\u001b[0mpython\u001b[0m\u001b[0;34m.\u001b[0m\u001b[0mestimator\u001b[0m\u001b[0;34m.\u001b[0m\u001b[0mcanned\u001b[0m\u001b[0;34m.\u001b[0m\u001b[0mlinear\u001b[0m \u001b[0;32mimport\u001b[0m \u001b[0mLinearSDCA\u001b[0m\u001b[0;34m\u001b[0m\u001b[0;34m\u001b[0m\u001b[0m\n",
      "\u001b[0;32m~/anaconda3/envs/python3/lib/python3.6/site-packages/tensorflow_estimator/python/estimator/canned/dnn.py\u001b[0m in \u001b[0;36m<module>\u001b[0;34m\u001b[0m\n\u001b[1;32m     31\u001b[0m \u001b[0;32mfrom\u001b[0m \u001b[0mtensorflow\u001b[0m\u001b[0;34m.\u001b[0m\u001b[0mpython\u001b[0m\u001b[0;34m.\u001b[0m\u001b[0mkeras\u001b[0m\u001b[0;34m.\u001b[0m\u001b[0mutils\u001b[0m \u001b[0;32mimport\u001b[0m \u001b[0mlosses_utils\u001b[0m\u001b[0;34m\u001b[0m\u001b[0;34m\u001b[0m\u001b[0m\n\u001b[1;32m     32\u001b[0m \u001b[0;32mfrom\u001b[0m \u001b[0mtensorflow\u001b[0m\u001b[0;34m.\u001b[0m\u001b[0mpython\u001b[0m\u001b[0;34m.\u001b[0m\u001b[0mutil\u001b[0m\u001b[0;34m.\u001b[0m\u001b[0mtf_export\u001b[0m \u001b[0;32mimport\u001b[0m \u001b[0mestimator_export\u001b[0m\u001b[0;34m\u001b[0m\u001b[0;34m\u001b[0m\u001b[0m\n\u001b[0;32m---> 33\u001b[0;31m \u001b[0;32mfrom\u001b[0m \u001b[0mtensorflow_estimator\u001b[0m\u001b[0;34m.\u001b[0m\u001b[0mpython\u001b[0m\u001b[0;34m.\u001b[0m\u001b[0mestimator\u001b[0m \u001b[0;32mimport\u001b[0m \u001b[0mestimator\u001b[0m\u001b[0;34m\u001b[0m\u001b[0;34m\u001b[0m\u001b[0m\n\u001b[0m\u001b[1;32m     34\u001b[0m \u001b[0;32mfrom\u001b[0m \u001b[0mtensorflow_estimator\u001b[0m\u001b[0;34m.\u001b[0m\u001b[0mpython\u001b[0m\u001b[0;34m.\u001b[0m\u001b[0mestimator\u001b[0m\u001b[0;34m.\u001b[0m\u001b[0mcanned\u001b[0m \u001b[0;32mimport\u001b[0m \u001b[0mhead\u001b[0m \u001b[0;32mas\u001b[0m \u001b[0mhead_lib\u001b[0m\u001b[0;34m\u001b[0m\u001b[0;34m\u001b[0m\u001b[0m\n\u001b[1;32m     35\u001b[0m \u001b[0;32mfrom\u001b[0m \u001b[0mtensorflow_estimator\u001b[0m\u001b[0;34m.\u001b[0m\u001b[0mpython\u001b[0m\u001b[0;34m.\u001b[0m\u001b[0mestimator\u001b[0m\u001b[0;34m.\u001b[0m\u001b[0mcanned\u001b[0m \u001b[0;32mimport\u001b[0m \u001b[0moptimizers\u001b[0m\u001b[0;34m\u001b[0m\u001b[0;34m\u001b[0m\u001b[0m\n",
      "\u001b[0;32m~/anaconda3/envs/python3/lib/python3.6/site-packages/tensorflow_estimator/python/estimator/estimator.py\u001b[0m in \u001b[0;36m<module>\u001b[0;34m\u001b[0m\n\u001b[1;32m     51\u001b[0m \u001b[0;32mfrom\u001b[0m \u001b[0mtensorflow_estimator\u001b[0m\u001b[0;34m.\u001b[0m\u001b[0mpython\u001b[0m\u001b[0;34m.\u001b[0m\u001b[0mestimator\u001b[0m \u001b[0;32mimport\u001b[0m \u001b[0mmodel_fn\u001b[0m \u001b[0;32mas\u001b[0m \u001b[0mmodel_fn_lib\u001b[0m\u001b[0;34m\u001b[0m\u001b[0;34m\u001b[0m\u001b[0m\n\u001b[1;32m     52\u001b[0m \u001b[0;32mfrom\u001b[0m \u001b[0mtensorflow_estimator\u001b[0m\u001b[0;34m.\u001b[0m\u001b[0mpython\u001b[0m\u001b[0;34m.\u001b[0m\u001b[0mestimator\u001b[0m \u001b[0;32mimport\u001b[0m \u001b[0mrun_config\u001b[0m\u001b[0;34m\u001b[0m\u001b[0;34m\u001b[0m\u001b[0m\n\u001b[0;32m---> 53\u001b[0;31m \u001b[0;32mfrom\u001b[0m \u001b[0mtensorflow_estimator\u001b[0m\u001b[0;34m.\u001b[0m\u001b[0mpython\u001b[0m\u001b[0;34m.\u001b[0m\u001b[0mestimator\u001b[0m \u001b[0;32mimport\u001b[0m \u001b[0mutil\u001b[0m \u001b[0;32mas\u001b[0m \u001b[0mestimator_util\u001b[0m\u001b[0;34m\u001b[0m\u001b[0;34m\u001b[0m\u001b[0m\n\u001b[0m\u001b[1;32m     54\u001b[0m \u001b[0;32mfrom\u001b[0m \u001b[0mtensorflow_estimator\u001b[0m\u001b[0;34m.\u001b[0m\u001b[0mpython\u001b[0m\u001b[0;34m.\u001b[0m\u001b[0mestimator\u001b[0m\u001b[0;34m.\u001b[0m\u001b[0mexport\u001b[0m \u001b[0;32mimport\u001b[0m \u001b[0mexport_lib\u001b[0m\u001b[0;34m\u001b[0m\u001b[0;34m\u001b[0m\u001b[0m\n\u001b[1;32m     55\u001b[0m \u001b[0;32mfrom\u001b[0m \u001b[0mtensorflow_estimator\u001b[0m\u001b[0;34m.\u001b[0m\u001b[0mpython\u001b[0m\u001b[0;34m.\u001b[0m\u001b[0mestimator\u001b[0m\u001b[0;34m.\u001b[0m\u001b[0mmode_keys\u001b[0m \u001b[0;32mimport\u001b[0m \u001b[0mModeKeys\u001b[0m\u001b[0;34m\u001b[0m\u001b[0;34m\u001b[0m\u001b[0m\n",
      "\u001b[0;32m~/anaconda3/envs/python3/lib/python3.6/site-packages/tensorflow_estimator/python/estimator/util.py\u001b[0m in \u001b[0;36m<module>\u001b[0;34m\u001b[0m\n\u001b[1;32m     73\u001b[0m \u001b[0;34m\u001b[0m\u001b[0m\n\u001b[1;32m     74\u001b[0m \u001b[0;34m\u001b[0m\u001b[0m\n\u001b[0;32m---> 75\u001b[0;31m \u001b[0;32mclass\u001b[0m \u001b[0m_DatasetInitializerHook\u001b[0m\u001b[0;34m(\u001b[0m\u001b[0mtf\u001b[0m\u001b[0;34m.\u001b[0m\u001b[0mcompat\u001b[0m\u001b[0;34m.\u001b[0m\u001b[0mv1\u001b[0m\u001b[0;34m.\u001b[0m\u001b[0mtrain\u001b[0m\u001b[0;34m.\u001b[0m\u001b[0mSessionRunHook\u001b[0m\u001b[0;34m)\u001b[0m\u001b[0;34m:\u001b[0m\u001b[0;34m\u001b[0m\u001b[0;34m\u001b[0m\u001b[0m\n\u001b[0m\u001b[1;32m     76\u001b[0m   \u001b[0;34m\"\"\"Creates a SessionRunHook that initializes the passed iterator.\"\"\"\u001b[0m\u001b[0;34m\u001b[0m\u001b[0;34m\u001b[0m\u001b[0m\n\u001b[1;32m     77\u001b[0m \u001b[0;34m\u001b[0m\u001b[0m\n",
      "\u001b[0;31mAttributeError\u001b[0m: module 'tensorflow' has no attribute 'compat'"
     ]
    }
   ],
   "source": [
    "import pathlib\n",
    "\n",
    "import matplotlib.pyplot as plt\n",
    "import pandas as pd\n",
    "import seaborn as sns\n",
    "\n",
    "import tensorflow as tf\n",
    "from tensorflow import keras\n",
    "from tensorflow.keras import layers\n",
    "from sklearn.metrics import r2_score\n",
    "\n",
    "print(tf.__version__)"
   ]
  },
  {
   "cell_type": "code",
   "execution_count": null,
   "metadata": {},
   "outputs": [],
   "source": [
    "import numpy as np\n",
    "import pandas as pd\n",
    "\n",
    "from sklearn.preprocessing import LabelEncoder\n",
    "from sklearn.model_selection import train_test_split\n",
    "from sklearn.metrics import r2_score\n",
    "pd.set_option('max_columns', 130, 'max_rows', 130)   # print시 출력 size 조절\n",
    "\n",
    "import warnings\n",
    "warnings.filterwarnings(action='ignore')  # 에러코드 무시"
   ]
  },
  {
   "cell_type": "markdown",
   "metadata": {},
   "source": [
    "## train/test 나누기"
   ]
  },
  {
   "cell_type": "code",
   "execution_count": null,
   "metadata": {
    "scrolled": false
   },
   "outputs": [],
   "source": [
    "train = df[df['flag'] == 'train']\n",
    "train = train.drop(['flag'],1)\n",
    "# df의 flag column이 train으로 되어있는것을 train으로 설정\n",
    "# train dataset의 flag column은 이제 필요 없으므로 drop해줌\n",
    "\n",
    "test = df[df['flag'] == 'test']\n",
    "test = test.drop(['flag'],1)\n",
    "# df의 flag column이 test으로 되어있는것을 test으로 설정\n",
    "# test dataset의 flag column은 이제 필요 없으므로 drop해줌\n",
    "\n",
    "test.head()"
   ]
  },
  {
   "cell_type": "code",
   "execution_count": null,
   "metadata": {},
   "outputs": [],
   "source": [
    "sample_submission = test[['Y']]\n",
    "sample_submission.head()\n",
    "# test dataset의 Y값은 비어있음, 해당 column은 제출용 데이터셋(sample_submission)으로 지정해줌"
   ]
  },
  {
   "cell_type": "code",
   "execution_count": null,
   "metadata": {},
   "outputs": [],
   "source": [
    "test = test.drop(['Y'],1)\n",
    "test.head()\n",
    "# 이제 test의 Y column은 필요없으니까 지워줌"
   ]
  },
  {
   "cell_type": "markdown",
   "metadata": {},
   "source": [
    "## Duration 생성"
   ]
  },
  {
   "cell_type": "code",
   "execution_count": null,
   "metadata": {},
   "outputs": [],
   "source": [
    "train['start_time'] = pd.to_datetime(train['start_time'], format=\"%Y-%m-%d %H:%M:%S\")\n",
    "train['end_time'] = pd.to_datetime(train['end_time'], format=\"%Y-%m-%d %H:%M:%S\")\n",
    "\n",
    "test['start_time'] = pd.to_datetime(test['start_time'], format=\"%Y-%m-%d %H:%M:%S\")\n",
    "test['end_time'] = pd.to_datetime(test['end_time'], format=\"%Y-%m-%d %H:%M:%S\")"
   ]
  },
  {
   "cell_type": "code",
   "execution_count": null,
   "metadata": {},
   "outputs": [],
   "source": [
    "train['duration'] = (train['end_time'] - train['start_time']).dt.seconds\n",
    "test['duration'] = (test['end_time'] - test['start_time']).dt.seconds"
   ]
  },
  {
   "cell_type": "code",
   "execution_count": null,
   "metadata": {},
   "outputs": [],
   "source": [
    "train.shape, test.shape"
   ]
  },
  {
   "cell_type": "code",
   "execution_count": null,
   "metadata": {},
   "outputs": [],
   "source": [
    "train.head()"
   ]
  },
  {
   "cell_type": "code",
   "execution_count": null,
   "metadata": {},
   "outputs": [],
   "source": [
    "train = train.drop(columns = ['start_time', 'end_time'])\n",
    "test = test.drop(columns = ['start_time', 'end_time'])"
   ]
  },
  {
   "cell_type": "markdown",
   "metadata": {},
   "source": [
    "## Outlier 제거"
   ]
  },
  {
   "cell_type": "code",
   "execution_count": null,
   "metadata": {},
   "outputs": [],
   "source": [
    "train['F2'].value_counts().sort_index().tail(10)"
   ]
  },
  {
   "cell_type": "code",
   "execution_count": null,
   "metadata": {},
   "outputs": [],
   "source": [
    "plt.figure(figsize = (50, 50))\n",
    "sns.boxplot(data = train[['F1', 'F2']])"
   ]
  },
  {
   "cell_type": "code",
   "execution_count": null,
   "metadata": {},
   "outputs": [],
   "source": [
    "train[train['F1'] > 100]"
   ]
  },
  {
   "cell_type": "code",
   "execution_count": null,
   "metadata": {},
   "outputs": [],
   "source": [
    "train.shape"
   ]
  },
  {
   "cell_type": "code",
   "execution_count": null,
   "metadata": {},
   "outputs": [],
   "source": [
    "train = train.drop(train[train['F1'] > 100].index, axis=0)\n",
    "train = train.drop(train[train['F1'] > 100].index, axis=0)"
   ]
  },
  {
   "cell_type": "code",
   "execution_count": null,
   "metadata": {},
   "outputs": [],
   "source": [
    "train.shape"
   ]
  },
  {
   "cell_type": "code",
   "execution_count": null,
   "metadata": {},
   "outputs": [],
   "source": [
    "train['duration'].value_counts().sort_index(ascending = False).tail(10)"
   ]
  },
  {
   "cell_type": "code",
   "execution_count": null,
   "metadata": {
    "scrolled": true
   },
   "outputs": [],
   "source": [
    "train = train.drop(train[train['duration'] > 5000].index, axis=0)\n",
    "train = train.drop(train[train['duration'] < 300].index, axis=0)"
   ]
  },
  {
   "cell_type": "code",
   "execution_count": null,
   "metadata": {},
   "outputs": [],
   "source": [
    "train.shape"
   ]
  },
  {
   "cell_type": "code",
   "execution_count": null,
   "metadata": {},
   "outputs": [],
   "source": [
    "plt.figure(figsize = (50, 50))\n",
    "sns.boxplot(data = train)"
   ]
  },
  {
   "cell_type": "code",
   "execution_count": null,
   "metadata": {},
   "outputs": [],
   "source": [
    "# sns.pairplot(train[['Y', 'F1', 'F2', 'A1', 'A2', 'A3']], diag_kind=\"kde\")"
   ]
  },
  {
   "cell_type": "markdown",
   "metadata": {},
   "source": [
    "## N/A 없애기"
   ]
  },
  {
   "cell_type": "code",
   "execution_count": null,
   "metadata": {},
   "outputs": [],
   "source": [
    "for (col, count) in train.isnull().sum().iteritems():\n",
    "    if count != 0:\n",
    "        print((col, count))\n",
    "\n",
    "# null 값이 얼마나 있는지를 정량적으로 확인"
   ]
  },
  {
   "cell_type": "code",
   "execution_count": null,
   "metadata": {},
   "outputs": [],
   "source": [
    "train['shift'] = train['shift'].ffill().bfill()\n",
    "test['shift'] = test['shift'].ffill().bfill()"
   ]
  },
  {
   "cell_type": "code",
   "execution_count": null,
   "metadata": {},
   "outputs": [],
   "source": [
    "train.columns[6:]\n",
    "\n",
    "# train의 column들 중 3번째부터 끝까지 출력 (C1 ~ C117)"
   ]
  },
  {
   "cell_type": "code",
   "execution_count": null,
   "metadata": {},
   "outputs": [],
   "source": [
    "for col in train.columns[6:]:\n",
    "    train[col] = train[col].fillna(train[col].mean())\n",
    "    test[col] = test[col].fillna(train[col].mean()) \n",
    "    \n",
    "# C4~117 columns들의 null 값들을 각각의 mean 값으로 채운다"
   ]
  },
  {
   "cell_type": "code",
   "execution_count": null,
   "metadata": {
    "scrolled": true
   },
   "outputs": [],
   "source": [
    "print(train.isnull().sum().sum(), test.isnull().sum().sum())\n",
    "\n",
    "# null값이 사라짐을 확인"
   ]
  },
  {
   "cell_type": "markdown",
   "metadata": {},
   "source": [
    "## Label Encoding"
   ]
  },
  {
   "cell_type": "code",
   "execution_count": null,
   "metadata": {},
   "outputs": [],
   "source": [
    "train.dtypes[:6]\n",
    "\n",
    "# Train의 column별로 Type들을 살펴봅니다.\n",
    "# float - 실수(소수점) , int - 정수, object - 글자, datetime -날짜"
   ]
  },
  {
   "cell_type": "code",
   "execution_count": null,
   "metadata": {},
   "outputs": [],
   "source": [
    "object_col = ['material_type', 'product_type', 'shift']\n",
    "\n",
    "for col in object_col:\n",
    "    lbl = LabelEncoder()    # LabelEncoding 함수를 불러와서 lbl로 지정\n",
    "    lbl.fit(train[col])   # train의 A column을 학습시킴 (해당 column의 글자들을 학습)\n",
    "    train[col] = lbl.transform(train[col])   # train['A'] column의 값들을 학슴된 lbl에 넣어서 숫자로 바꿈\n",
    "    test[col] = lbl.transform(test[col])    # test['A'] column의 값들을 학슴된 lbl에 넣어서 숫자로 바꿈"
   ]
  },
  {
   "cell_type": "code",
   "execution_count": null,
   "metadata": {},
   "outputs": [],
   "source": [
    "train.head() "
   ]
  },
  {
   "cell_type": "code",
   "execution_count": null,
   "metadata": {
    "scrolled": true
   },
   "outputs": [],
   "source": [
    "test.head()"
   ]
  },
  {
   "cell_type": "code",
   "execution_count": null,
   "metadata": {},
   "outputs": [],
   "source": []
  },
  {
   "cell_type": "markdown",
   "metadata": {},
   "source": [
    "## Standardization"
   ]
  },
  {
   "cell_type": "code",
   "execution_count": null,
   "metadata": {},
   "outputs": [],
   "source": [
    "# origin_train = train\n",
    "# origin_test = test"
   ]
  },
  {
   "cell_type": "code",
   "execution_count": null,
   "metadata": {},
   "outputs": [],
   "source": [
    "y = train['Y'].copy()           # train의 Y column들을 y로 지정\n",
    "X = train.drop(['Y'],1)   # train에서 y를 제외한 column들을 X로 지정"
   ]
  },
  {
   "cell_type": "code",
   "execution_count": null,
   "metadata": {},
   "outputs": [],
   "source": [
    "# from sklearn.preprocessing import StandardScaler"
   ]
  },
  {
   "cell_type": "code",
   "execution_count": null,
   "metadata": {},
   "outputs": [],
   "source": [
    "X_mean = X.mean(axis=0)\n",
    "X_std = X.std(axis=0)\n",
    "X -= X_mean\n",
    "X /= X_std"
   ]
  },
  {
   "cell_type": "code",
   "execution_count": null,
   "metadata": {},
   "outputs": [],
   "source": [
    "test -= X_mean\n",
    "test /= X_std"
   ]
  },
  {
   "cell_type": "code",
   "execution_count": null,
   "metadata": {},
   "outputs": [],
   "source": [
    "y_mean = y.mean()\n",
    "y_std = y.std()\n",
    "y -= y_mean\n",
    "y /= y_std"
   ]
  },
  {
   "cell_type": "code",
   "execution_count": null,
   "metadata": {},
   "outputs": [],
   "source": [
    "# standard_scaler = StandardScaler()\n",
    "# X_scaler = standard_scaler.fit(X)\n",
    "\n",
    "# X = pd.DataFrame(X_scaler.transform(X), columns = origin_train.columns[1:])\n",
    "# test = pd.DataFrame(X_scaler.transform(test), columns = origin_test.columns)"
   ]
  },
  {
   "cell_type": "code",
   "execution_count": null,
   "metadata": {},
   "outputs": [],
   "source": [
    "# standard_scaler = StandardScaler()\n",
    "# y_scaler = standard_scaler.fit(y)\n",
    "\n",
    "\n",
    "# y = pd.DataFrame(y_scaler.transform(y), columns = origin_train.columns[0])\n",
    "# # Series라서 transform할 수 없음"
   ]
  },
  {
   "cell_type": "code",
   "execution_count": null,
   "metadata": {},
   "outputs": [],
   "source": [
    "train"
   ]
  },
  {
   "cell_type": "code",
   "execution_count": null,
   "metadata": {
    "scrolled": true
   },
   "outputs": [],
   "source": [
    "X"
   ]
  },
  {
   "cell_type": "code",
   "execution_count": null,
   "metadata": {},
   "outputs": [],
   "source": [
    "y"
   ]
  },
  {
   "cell_type": "code",
   "execution_count": null,
   "metadata": {},
   "outputs": [],
   "source": [
    "test"
   ]
  },
  {
   "cell_type": "code",
   "execution_count": null,
   "metadata": {},
   "outputs": [],
   "source": [
    "X.describe()"
   ]
  },
  {
   "cell_type": "code",
   "execution_count": null,
   "metadata": {},
   "outputs": [],
   "source": [
    "y.describe()"
   ]
  },
  {
   "cell_type": "code",
   "execution_count": null,
   "metadata": {
    "scrolled": false
   },
   "outputs": [],
   "source": [
    "test.describe()"
   ]
  },
  {
   "cell_type": "code",
   "execution_count": null,
   "metadata": {},
   "outputs": [],
   "source": [
    "test.describe().iloc[1:3, :]"
   ]
  },
  {
   "cell_type": "code",
   "execution_count": null,
   "metadata": {},
   "outputs": [],
   "source": [
    "test.columns"
   ]
  },
  {
   "cell_type": "markdown",
   "metadata": {},
   "source": [
    "## 산점도 그리기"
   ]
  },
  {
   "cell_type": "code",
   "execution_count": null,
   "metadata": {},
   "outputs": [],
   "source": [
    "# sns.pairplot(train[[\"Y\", \"A1\", \"A2\", \"A3\"]], diag_kind=\"kde\")"
   ]
  },
  {
   "cell_type": "markdown",
   "metadata": {},
   "source": [
    "## 통계 보기"
   ]
  },
  {
   "cell_type": "code",
   "execution_count": null,
   "metadata": {},
   "outputs": [],
   "source": [
    "train_stats = train.describe()\n",
    "train_stats = train_stats.transpose()\n",
    "train_stats"
   ]
  },
  {
   "cell_type": "markdown",
   "metadata": {},
   "source": [
    "## train valid split"
   ]
  },
  {
   "cell_type": "code",
   "execution_count": null,
   "metadata": {},
   "outputs": [],
   "source": [
    "X_origin = X\n",
    "test_origin = test"
   ]
  },
  {
   "cell_type": "code",
   "execution_count": null,
   "metadata": {},
   "outputs": [],
   "source": [
    "weird = ['E3', 'E4', 'E5', 'F1', 'F2', 'N1', 'X1', 'W1', 'E2', 'H2', 'K2']\n",
    "\n",
    "X = X_origin.drop(columns = weird)\n",
    "test = test_origin.drop(columns = weird)"
   ]
  },
  {
   "cell_type": "code",
   "execution_count": null,
   "metadata": {},
   "outputs": [],
   "source": [
    "X.shape, test.shape"
   ]
  },
  {
   "cell_type": "code",
   "execution_count": null,
   "metadata": {},
   "outputs": [],
   "source": [
    "X_train, X_valid, y_train, y_valid = train_test_split(X,y,test_size=0.2, random_state=1019)   \n",
    "# train : valid = 8:2로 나누어준다. (X,y) -> (X_train, y_train), (X_valid, y_valid)\n",
    "\n",
    "print(X.shape, y.shape, \"-->\", X_train.shape, y_train.shape, X_valid.shape, y_valid.shape)"
   ]
  },
  {
   "cell_type": "code",
   "execution_count": null,
   "metadata": {},
   "outputs": [],
   "source": [
    "# weird = ['width', 'E3', 'E4', 'E5', 'E6', 'E7', 'E8', 'F1', 'N1', 'X1', 'W1']"
   ]
  },
  {
   "cell_type": "markdown",
   "metadata": {},
   "source": [
    "# 모델 만들기"
   ]
  },
  {
   "cell_type": "code",
   "execution_count": null,
   "metadata": {},
   "outputs": [],
   "source": [
    "def build_model():\n",
    "  model = keras.Sequential([\n",
    "    layers.Dense(1024, activation='relu', input_shape=[len(X_train.keys())]),\n",
    "    layers.Dense(1024, activation='relu'),\n",
    "    layers.Dense(512, activation='relu'),\n",
    "    layers.Dense(512, activation='relu'),\n",
    "    layers.Dense(256, activation='relu'),\n",
    "    layers.Dense(256, activation='relu'),  \n",
    "    layers.Dense(64, activation='relu'),\n",
    "    layers.Dense(64, activation='relu'),\n",
    "    layers.Dense(1)\n",
    "  ])\n",
    "\n",
    "  optimizer = tf.keras.optimizers.RMSprop(0.000005)\n",
    "\n",
    "  model.compile(loss='mse',\n",
    "                optimizer=optimizer,\n",
    "                metrics=['mae', 'mse'])\n",
    "  return model"
   ]
  },
  {
   "cell_type": "code",
   "execution_count": null,
   "metadata": {},
   "outputs": [],
   "source": [
    "fmodel = build_model()"
   ]
  },
  {
   "cell_type": "code",
   "execution_count": null,
   "metadata": {},
   "outputs": [],
   "source": [
    "model.summary()"
   ]
  },
  {
   "cell_type": "code",
   "execution_count": null,
   "metadata": {},
   "outputs": [],
   "source": [
    "class PrintDot(keras.callbacks.Callback):\n",
    "  def on_epoch_end(self, epoch, logs):\n",
    "    if epoch % 100 == 0: print('')\n",
    "    print('.', end='')"
   ]
  },
  {
   "cell_type": "code",
   "execution_count": null,
   "metadata": {},
   "outputs": [],
   "source": [
    "import matplotlib.pyplot as plt\n",
    "\n",
    "def plot_history(history):\n",
    "  hist = pd.DataFrame(history.history)\n",
    "  hist['epoch'] = history.epoch\n",
    "  plt.figure(figsize=(8,12))\n",
    "\n",
    "  plt.subplot(2,1,1)\n",
    "  plt.xlabel('Epoch')\n",
    "  plt.ylabel('Mean Abs Error [MPG]')\n",
    "  plt.plot(hist['epoch'], hist['mae'],\n",
    "           label='Train Error')\n",
    "  plt.plot(hist['epoch'], hist['val_mae'],\n",
    "           label = 'Val Error')\n",
    "  plt.ylim([0,1])\n",
    "  plt.legend()\n",
    "\n",
    "  plt.subplot(2,1,2)\n",
    "  plt.xlabel('Epoch')\n",
    "  plt.ylabel('Mean Square Error [$MPG^2$]')\n",
    "  plt.plot(hist['epoch'], hist['mse'],\n",
    "           label='Train Error')\n",
    "  plt.plot(hist['epoch'], hist['val_mse'],\n",
    "           label = 'Val Error')\n",
    "  plt.ylim([0,1])\n",
    "  plt.legend()\n",
    "  plt.show()"
   ]
  },
  {
   "cell_type": "code",
   "execution_count": null,
   "metadata": {},
   "outputs": [],
   "source": [
    "model = build_model()\n",
    "EPOCHS = 200\n",
    "\n",
    "# patience 매개변수는 성능 향상을 체크할 에포크 횟수입니다\n",
    "early_stop = keras.callbacks.EarlyStopping(monitor='val_loss', patience=2)\n",
    "\n",
    "history = model.fit(X_train, y_train, epochs=EPOCHS, batch_size=1024,\n",
    "                    validation_split = 0.2, verbose=0, callbacks=[early_stop, PrintDot()])"
   ]
  },
  {
   "cell_type": "code",
   "execution_count": null,
   "metadata": {},
   "outputs": [],
   "source": [
    "history.history.keys()"
   ]
  },
  {
   "cell_type": "code",
   "execution_count": null,
   "metadata": {},
   "outputs": [],
   "source": [
    "plt.figure(figsize = (40, 40))\n",
    "plot_history(history)"
   ]
  },
  {
   "cell_type": "code",
   "execution_count": null,
   "metadata": {},
   "outputs": [],
   "source": [
    "pred_train = model.predict(X_train).flatten()\n",
    "pred_valid = model.predict(X_valid).flatten()\n",
    "\n",
    "plt.scatter(y_valid, pred_valid)\n",
    "plt.xlabel('True Values [MPG]')\n",
    "plt.ylabel('Predictions [MPG]')\n",
    "plt.axis('equal')\n",
    "plt.axis('square')\n",
    "plt.xlim([0,plt.xlim()[1]])\n",
    "plt.ylim([0,plt.ylim()[1]])\n",
    "_ = plt.plot([-100, 100], [-100, 100])"
   ]
  },
  {
   "cell_type": "code",
   "execution_count": null,
   "metadata": {},
   "outputs": [],
   "source": [
    "error = pred_valid - y_valid\n",
    "plt.hist(error, bins = 25)\n",
    "plt.xlabel(\"Prediction Error [MPG]\")\n",
    "_ = plt.ylabel(\"Count\")"
   ]
  },
  {
   "cell_type": "code",
   "execution_count": null,
   "metadata": {
    "scrolled": true
   },
   "outputs": [],
   "source": [
    "r2_score(y_train, pred_train), r2_score(y_valid, pred_valid)"
   ]
  },
  {
   "cell_type": "markdown",
   "metadata": {},
   "source": [
    "#### 'E3', 'E4', 'E5', 'F1', 'F2', 'N1', 'X1', 'W1', 'E2', 'H2', 'K2'\n",
    "- 128 2개, 64 1개, relu, patience 2, learning rate 0.00005 (0.7375107448666837, 0.7255516125679826)\n",
    "- 128 2개, 64 1개, relu, patience 3, learning rate 0.00005 (0.746273357125049, 0.7235214496878153)\n",
    "- 128 2개, 64 1개, relu, patience 3, learning rate 0.0001 (0.7493142940093388, 0.7240464376646347)\n",
    "- 128 2개, 64 1개, relu, patience 2, learning rate 0.0001 (0.7403385115773673, 0.7244466398390081)\n",
    "- 128 2개, 64 2개, relu, patience 2, learning rate 0.0001 (0.7254639044449396, 0.7082851756410633)\n",
    "- 128 2개, 64 2개, relu, patience 2, learning rate 0.00005 (0.7421391604514205, 0.7285374533690077)\n",
    "- 1024 2개, 512 2개, 64 2개 relu, patience 2, learning rate 0.00001 (0.7406692505866822, 0.7343102613902754)\n",
    "- 1024 2개, 512 2개, 256 2개, 64 2개 relu, patience 2, learning rate 0.000005 (0.7413355165544875, 0.7399025327593831)\n",
    "- \n",
    "\n",
    "####  E2, H2, K2, X1, W1, F1, F2\n",
    "- 128 2개, 64 2개, relu, patience 2, learning rate 0.00005 (0.7325018354301659, 0.7174085130375184)\n",
    "\n",
    "#### 'E3', 'E4', 'E5', 'F1', 'F2', 'N1', 'X1', 'W1', 'E2', 'H2', 'K2'\n",
    "- 128 2개, 64 2개, relu, patience 2, learning rate 0.00005 (0.7457260535913324, 0.7212801307874317)"
   ]
  },
  {
   "cell_type": "code",
   "execution_count": null,
   "metadata": {},
   "outputs": [],
   "source": [
    "sample_submission.head()"
   ]
  },
  {
   "cell_type": "code",
   "execution_count": null,
   "metadata": {},
   "outputs": [],
   "source": [
    "# pred_test도 standard_scaler에 영향받은 값이 나오기 때문에 원래 분포로 돌려줘야만 채점을 받을 수 있음\n",
    "\n",
    "pred_test = model.predict(test)"
   ]
  },
  {
   "cell_type": "code",
   "execution_count": null,
   "metadata": {},
   "outputs": [],
   "source": [
    "pred_test"
   ]
  },
  {
   "cell_type": "code",
   "execution_count": null,
   "metadata": {},
   "outputs": [],
   "source": [
    "pred_test *= y_std\n",
    "pred_test += y_mean"
   ]
  },
  {
   "cell_type": "code",
   "execution_count": null,
   "metadata": {},
   "outputs": [],
   "source": [
    "pred_test"
   ]
  },
  {
   "cell_type": "code",
   "execution_count": null,
   "metadata": {},
   "outputs": [],
   "source": [
    "pred_test.shape"
   ]
  },
  {
   "cell_type": "code",
   "execution_count": null,
   "metadata": {},
   "outputs": [],
   "source": [
    "sample_submission['Y'] = pred_test"
   ]
  },
  {
   "cell_type": "code",
   "execution_count": null,
   "metadata": {},
   "outputs": [],
   "source": [
    "sample_submission\n"
   ]
  },
  {
   "cell_type": "code",
   "execution_count": null,
   "metadata": {},
   "outputs": [],
   "source": [
    "sample_submission.to_csv('~/SageMaker/kskc2180033/kskc2180033_submission(2.4).csv')"
   ]
  },
  {
   "cell_type": "code",
   "execution_count": null,
   "metadata": {},
   "outputs": [],
   "source": []
  }
 ],
 "metadata": {
  "kernelspec": {
   "display_name": "conda_python3",
   "language": "python",
   "name": "conda_python3"
  },
  "language_info": {
   "codemirror_mode": {
    "name": "ipython",
    "version": 3
   },
   "file_extension": ".py",
   "mimetype": "text/x-python",
   "name": "python",
   "nbconvert_exporter": "python",
   "pygments_lexer": "ipython3",
   "version": "3.6.10"
  }
 },
 "nbformat": 4,
 "nbformat_minor": 4
}
